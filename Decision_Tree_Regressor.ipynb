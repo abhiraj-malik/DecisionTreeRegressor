{
 "cells": [
  {
   "cell_type": "code",
   "execution_count": 57,
   "id": "628a73b3",
   "metadata": {},
   "outputs": [],
   "source": [
    " from matplotlib import pyplot as plt\n",
    "import pandas as pd\n",
    "import numpy as np\n",
    "import seaborn as sns\n"
   ]
  },
  {
   "cell_type": "code",
   "execution_count": 58,
   "id": "b5493b1a",
   "metadata": {},
   "outputs": [],
   "source": [
    "s=pd.read_csv(\"C:\\\\Users\\\\ABHIRAJ\\\\Desktop\\\\DATA SETS\\\\co2_emission.csv\")"
   ]
  },
  {
   "cell_type": "code",
   "execution_count": 59,
   "id": "ac8306c5",
   "metadata": {},
   "outputs": [
    {
     "data": {
      "text/html": [
       "<div>\n",
       "<style scoped>\n",
       "    .dataframe tbody tr th:only-of-type {\n",
       "        vertical-align: middle;\n",
       "    }\n",
       "\n",
       "    .dataframe tbody tr th {\n",
       "        vertical-align: top;\n",
       "    }\n",
       "\n",
       "    .dataframe thead th {\n",
       "        text-align: right;\n",
       "    }\n",
       "</style>\n",
       "<table border=\"1\" class=\"dataframe\">\n",
       "  <thead>\n",
       "    <tr style=\"text-align: right;\">\n",
       "      <th></th>\n",
       "      <th>Country</th>\n",
       "      <th>Fossil CO2 emissions(Mt CO2)</th>\n",
       "      <th>Unnamed: 2</th>\n",
       "      <th>Unnamed: 3</th>\n",
       "      <th>Fossil CO2 emissions</th>\n",
       "      <th>Unnamed: 5</th>\n",
       "      <th>2017  Fossil CO2 emissions</th>\n",
       "      <th>Unnamed: 7</th>\n",
       "      <th>2018 CO2 emissions</th>\n",
       "      <th>Unnamed: 9</th>\n",
       "    </tr>\n",
       "  </thead>\n",
       "  <tbody>\n",
       "    <tr>\n",
       "      <th>0</th>\n",
       "      <td>NaN</td>\n",
       "      <td>1990.000</td>\n",
       "      <td>2005.000</td>\n",
       "      <td>2017.000</td>\n",
       "      <td>2017(% of world)</td>\n",
       "      <td>2017 vs 1990: change (%)</td>\n",
       "      <td>Per land area(t CO2/km2/yr)</td>\n",
       "      <td>Per capita(t CO2/cap/yr)</td>\n",
       "      <td>Total including LUCF</td>\n",
       "      <td>Total excluding LUCF</td>\n",
       "    </tr>\n",
       "    <tr>\n",
       "      <th>1</th>\n",
       "      <td>World</td>\n",
       "      <td>22674.116</td>\n",
       "      <td>30049.809</td>\n",
       "      <td>37077.404</td>\n",
       "      <td>100.00%</td>\n",
       "      <td>63.50%</td>\n",
       "      <td>73</td>\n",
       "      <td>4.9</td>\n",
       "      <td>36431.11</td>\n",
       "      <td>35247.21</td>\n",
       "    </tr>\n",
       "    <tr>\n",
       "      <th>2</th>\n",
       "      <td>World  International Aviation</td>\n",
       "      <td>258.941</td>\n",
       "      <td>422.777</td>\n",
       "      <td>543.381</td>\n",
       "      <td>1.47%</td>\n",
       "      <td>109.80%</td>\n",
       "      <td>NaN</td>\n",
       "      <td>NaN</td>\n",
       "      <td>NaN</td>\n",
       "      <td>NaN</td>\n",
       "    </tr>\n",
       "    <tr>\n",
       "      <th>3</th>\n",
       "      <td>World  International Shipping</td>\n",
       "      <td>371.804</td>\n",
       "      <td>572.169</td>\n",
       "      <td>677.248</td>\n",
       "      <td>1.83%</td>\n",
       "      <td>82.20%</td>\n",
       "      <td>NaN</td>\n",
       "      <td>NaN</td>\n",
       "      <td>NaN</td>\n",
       "      <td>NaN</td>\n",
       "    </tr>\n",
       "    <tr>\n",
       "      <th>4</th>\n",
       "      <td>Afghanistan</td>\n",
       "      <td>2.546</td>\n",
       "      <td>1.063</td>\n",
       "      <td>11.422</td>\n",
       "      <td>0.03%</td>\n",
       "      <td>348.60%</td>\n",
       "      <td>18</td>\n",
       "      <td>0.3</td>\n",
       "      <td>7.59</td>\n",
       "      <td>7.44</td>\n",
       "    </tr>\n",
       "    <tr>\n",
       "      <th>...</th>\n",
       "      <td>...</td>\n",
       "      <td>...</td>\n",
       "      <td>...</td>\n",
       "      <td>...</td>\n",
       "      <td>...</td>\n",
       "      <td>...</td>\n",
       "      <td>...</td>\n",
       "      <td>...</td>\n",
       "      <td>...</td>\n",
       "      <td>...</td>\n",
       "    </tr>\n",
       "    <tr>\n",
       "      <th>208</th>\n",
       "      <td>Vietnam</td>\n",
       "      <td>20.182</td>\n",
       "      <td>99.231</td>\n",
       "      <td>218.729</td>\n",
       "      <td>0.59%</td>\n",
       "      <td>983.80%</td>\n",
       "      <td>660</td>\n",
       "      <td>2.3</td>\n",
       "      <td>245.36</td>\n",
       "      <td>257.86</td>\n",
       "    </tr>\n",
       "    <tr>\n",
       "      <th>209</th>\n",
       "      <td>Western Sahara</td>\n",
       "      <td>0.144</td>\n",
       "      <td>0.227</td>\n",
       "      <td>0.276</td>\n",
       "      <td>0.00%</td>\n",
       "      <td>91.70%</td>\n",
       "      <td>1</td>\n",
       "      <td>0.5</td>\n",
       "      <td>NaN</td>\n",
       "      <td>NaN</td>\n",
       "    </tr>\n",
       "    <tr>\n",
       "      <th>210</th>\n",
       "      <td>Yemen</td>\n",
       "      <td>6.887</td>\n",
       "      <td>21.768</td>\n",
       "      <td>12.503</td>\n",
       "      <td>0.03%</td>\n",
       "      <td>81.50%</td>\n",
       "      <td>24</td>\n",
       "      <td>0.4</td>\n",
       "      <td>9.31</td>\n",
       "      <td>9.31</td>\n",
       "    </tr>\n",
       "    <tr>\n",
       "      <th>211</th>\n",
       "      <td>Zambia</td>\n",
       "      <td>2.955</td>\n",
       "      <td>2.457</td>\n",
       "      <td>4.967</td>\n",
       "      <td>0.01%</td>\n",
       "      <td>68.10%</td>\n",
       "      <td>7</td>\n",
       "      <td>0.3</td>\n",
       "      <td>40.47</td>\n",
       "      <td>7.74</td>\n",
       "    </tr>\n",
       "    <tr>\n",
       "      <th>212</th>\n",
       "      <td>Zimbabwe</td>\n",
       "      <td>17.178</td>\n",
       "      <td>11.388</td>\n",
       "      <td>12.087</td>\n",
       "      <td>0.03%</td>\n",
       "      <td>-29.60%</td>\n",
       "      <td>31</td>\n",
       "      <td>0.7</td>\n",
       "      <td>99.43</td>\n",
       "      <td>12.27</td>\n",
       "    </tr>\n",
       "  </tbody>\n",
       "</table>\n",
       "<p>213 rows × 10 columns</p>\n",
       "</div>"
      ],
      "text/plain": [
       "                           Country  Fossil CO2 emissions(Mt CO2)  Unnamed: 2  \\\n",
       "0                              NaN                      1990.000    2005.000   \n",
       "1                            World                     22674.116   30049.809   \n",
       "2    World  International Aviation                       258.941     422.777   \n",
       "3    World  International Shipping                       371.804     572.169   \n",
       "4                      Afghanistan                         2.546       1.063   \n",
       "..                             ...                           ...         ...   \n",
       "208                        Vietnam                        20.182      99.231   \n",
       "209                 Western Sahara                         0.144       0.227   \n",
       "210                          Yemen                         6.887      21.768   \n",
       "211                         Zambia                         2.955       2.457   \n",
       "212                       Zimbabwe                        17.178      11.388   \n",
       "\n",
       "     Unnamed: 3 Fossil CO2 emissions                Unnamed: 5  \\\n",
       "0      2017.000     2017(% of world)  2017 vs 1990: change (%)   \n",
       "1     37077.404              100.00%                    63.50%   \n",
       "2       543.381                1.47%                   109.80%   \n",
       "3       677.248                1.83%                    82.20%   \n",
       "4        11.422                0.03%                   348.60%   \n",
       "..          ...                  ...                       ...   \n",
       "208     218.729                0.59%                   983.80%   \n",
       "209       0.276                0.00%                    91.70%   \n",
       "210      12.503                0.03%                    81.50%   \n",
       "211       4.967                0.01%                    68.10%   \n",
       "212      12.087                0.03%                   -29.60%   \n",
       "\n",
       "      2017  Fossil CO2 emissions                Unnamed: 7  \\\n",
       "0    Per land area(t CO2/km2/yr)  Per capita(t CO2/cap/yr)   \n",
       "1                             73                       4.9   \n",
       "2                            NaN                       NaN   \n",
       "3                            NaN                       NaN   \n",
       "4                             18                       0.3   \n",
       "..                           ...                       ...   \n",
       "208                          660                       2.3   \n",
       "209                            1                       0.5   \n",
       "210                           24                       0.4   \n",
       "211                            7                       0.3   \n",
       "212                           31                       0.7   \n",
       "\n",
       "       2018 CO2 emissions            Unnamed: 9  \n",
       "0    Total including LUCF  Total excluding LUCF  \n",
       "1                36431.11              35247.21  \n",
       "2                     NaN                   NaN  \n",
       "3                     NaN                   NaN  \n",
       "4                    7.59                  7.44  \n",
       "..                    ...                   ...  \n",
       "208                245.36                257.86  \n",
       "209                   NaN                   NaN  \n",
       "210                  9.31                  9.31  \n",
       "211                 40.47                  7.74  \n",
       "212                 99.43                 12.27  \n",
       "\n",
       "[213 rows x 10 columns]"
      ]
     },
     "execution_count": 59,
     "metadata": {},
     "output_type": "execute_result"
    }
   ],
   "source": [
    "s"
   ]
  },
  {
   "cell_type": "code",
   "execution_count": 185,
   "id": "a2422337",
   "metadata": {},
   "outputs": [],
   "source": [
    "s.columns=['mt CO2','un1','un2','un3','per','un5','2017_CO2','un7','2018_CO2','un9']"
   ]
  },
  {
   "cell_type": "code",
   "execution_count": 186,
   "id": "eec4af5f",
   "metadata": {},
   "outputs": [
    {
     "data": {
      "text/html": [
       "<div>\n",
       "<style scoped>\n",
       "    .dataframe tbody tr th:only-of-type {\n",
       "        vertical-align: middle;\n",
       "    }\n",
       "\n",
       "    .dataframe tbody tr th {\n",
       "        vertical-align: top;\n",
       "    }\n",
       "\n",
       "    .dataframe thead th {\n",
       "        text-align: right;\n",
       "    }\n",
       "</style>\n",
       "<table border=\"1\" class=\"dataframe\">\n",
       "  <thead>\n",
       "    <tr style=\"text-align: right;\">\n",
       "      <th></th>\n",
       "      <th>mt CO2</th>\n",
       "      <th>un1</th>\n",
       "      <th>un2</th>\n",
       "      <th>un3</th>\n",
       "      <th>per</th>\n",
       "      <th>un5</th>\n",
       "      <th>2017_CO2</th>\n",
       "      <th>un7</th>\n",
       "      <th>2018_CO2</th>\n",
       "      <th>un9</th>\n",
       "    </tr>\n",
       "  </thead>\n",
       "  <tbody>\n",
       "    <tr>\n",
       "      <th>0</th>\n",
       "      <td>NaN</td>\n",
       "      <td>1990.000</td>\n",
       "      <td>2005.000</td>\n",
       "      <td>2017.000</td>\n",
       "      <td>2017(% of world)</td>\n",
       "      <td>2017 vs 1990: change (%)</td>\n",
       "      <td>Per land area(t CO2/km2/yr)</td>\n",
       "      <td>Per capita(t CO2/cap/yr)</td>\n",
       "      <td>Total including LUCF</td>\n",
       "      <td>Total excluding LUCF</td>\n",
       "    </tr>\n",
       "    <tr>\n",
       "      <th>1</th>\n",
       "      <td>World</td>\n",
       "      <td>22674.116</td>\n",
       "      <td>30049.809</td>\n",
       "      <td>37077.404</td>\n",
       "      <td>100.00%</td>\n",
       "      <td>63.50%</td>\n",
       "      <td>73</td>\n",
       "      <td>4.9</td>\n",
       "      <td>36431.11</td>\n",
       "      <td>35247.21</td>\n",
       "    </tr>\n",
       "    <tr>\n",
       "      <th>2</th>\n",
       "      <td>World  International Aviation</td>\n",
       "      <td>258.941</td>\n",
       "      <td>422.777</td>\n",
       "      <td>543.381</td>\n",
       "      <td>1.47%</td>\n",
       "      <td>109.80%</td>\n",
       "      <td>NaN</td>\n",
       "      <td>NaN</td>\n",
       "      <td>NaN</td>\n",
       "      <td>NaN</td>\n",
       "    </tr>\n",
       "    <tr>\n",
       "      <th>3</th>\n",
       "      <td>World  International Shipping</td>\n",
       "      <td>371.804</td>\n",
       "      <td>572.169</td>\n",
       "      <td>677.248</td>\n",
       "      <td>1.83%</td>\n",
       "      <td>82.20%</td>\n",
       "      <td>NaN</td>\n",
       "      <td>NaN</td>\n",
       "      <td>NaN</td>\n",
       "      <td>NaN</td>\n",
       "    </tr>\n",
       "    <tr>\n",
       "      <th>4</th>\n",
       "      <td>Afghanistan</td>\n",
       "      <td>2.546</td>\n",
       "      <td>1.063</td>\n",
       "      <td>11.422</td>\n",
       "      <td>0.03%</td>\n",
       "      <td>348.60%</td>\n",
       "      <td>18</td>\n",
       "      <td>0.3</td>\n",
       "      <td>7.59</td>\n",
       "      <td>7.44</td>\n",
       "    </tr>\n",
       "  </tbody>\n",
       "</table>\n",
       "</div>"
      ],
      "text/plain": [
       "                          mt CO2        un1        un2        un3  \\\n",
       "0                            NaN   1990.000   2005.000   2017.000   \n",
       "1                          World  22674.116  30049.809  37077.404   \n",
       "2  World  International Aviation    258.941    422.777    543.381   \n",
       "3  World  International Shipping    371.804    572.169    677.248   \n",
       "4                    Afghanistan      2.546      1.063     11.422   \n",
       "\n",
       "                per                       un5                     2017_CO2  \\\n",
       "0  2017(% of world)  2017 vs 1990: change (%)  Per land area(t CO2/km2/yr)   \n",
       "1           100.00%                    63.50%                           73   \n",
       "2             1.47%                   109.80%                          NaN   \n",
       "3             1.83%                    82.20%                          NaN   \n",
       "4             0.03%                   348.60%                           18   \n",
       "\n",
       "                        un7              2018_CO2                   un9  \n",
       "0  Per capita(t CO2/cap/yr)  Total including LUCF  Total excluding LUCF  \n",
       "1                       4.9              36431.11              35247.21  \n",
       "2                       NaN                   NaN                   NaN  \n",
       "3                       NaN                   NaN                   NaN  \n",
       "4                       0.3                  7.59                  7.44  "
      ]
     },
     "execution_count": 186,
     "metadata": {},
     "output_type": "execute_result"
    }
   ],
   "source": [
    "s.head()"
   ]
  },
  {
   "cell_type": "code",
   "execution_count": null,
   "id": "c76c2282",
   "metadata": {},
   "outputs": [],
   "source": []
  },
  {
   "cell_type": "code",
   "execution_count": null,
   "id": "ee035c82",
   "metadata": {},
   "outputs": [],
   "source": []
  },
  {
   "cell_type": "code",
   "execution_count": 87,
   "id": "60460c5f",
   "metadata": {},
   "outputs": [
    {
     "data": {
      "text/plain": [
       "(200, 10)"
      ]
     },
     "execution_count": 87,
     "metadata": {},
     "output_type": "execute_result"
    }
   ],
   "source": [
    "nan.shape"
   ]
  },
  {
   "cell_type": "code",
   "execution_count": 107,
   "id": "08035ba0",
   "metadata": {},
   "outputs": [],
   "source": [
    "x=nan[\"2017_CO2\"].iloc[0:20]"
   ]
  },
  {
   "cell_type": "code",
   "execution_count": 108,
   "id": "0d6e6dac",
   "metadata": {},
   "outputs": [],
   "source": [
    "y=nan[\"2\"].iloc[0:5]"
   ]
  },
  {
   "cell_type": "code",
   "execution_count": 109,
   "id": "35048c12",
   "metadata": {},
   "outputs": [
    {
     "data": {
      "text/plain": [
       "(array([2., 2., 2., 2., 2., 2., 2., 2., 2., 2.]),\n",
       " array([ 0. ,  1.9,  3.8,  5.7,  7.6,  9.5, 11.4, 13.3, 15.2, 17.1, 19. ]),\n",
       " <BarContainer object of 10 artists>)"
      ]
     },
     "execution_count": 109,
     "metadata": {},
     "output_type": "execute_result"
    },
    {
     "data": {
      "image/png": "[encoded data removed]",
      "text/plain": [
       "<Figure size 640x480 with 1 Axes>"
      ]
     },
     "metadata": {},
     "output_type": "display_data"
    }
   ],
   "source": [
    "plt.hist(x)"
   ]
  },
  {
   "cell_type": "code",
   "execution_count": 110,
   "id": "a9473c6e",
   "metadata": {},
   "outputs": [
    {
     "data": {
      "text/plain": [
       "<AxesSubplot:xlabel='2017_CO2', ylabel='Count'>"
      ]
     },
     "execution_count": 110,
     "metadata": {},
     "output_type": "execute_result"
    },
    {
     "data": {
      "image/png": "[encoded data removed]",
      "text/plain": [
       "<Figure size 640x480 with 1 Axes>"
      ]
     },
     "metadata": {},
     "output_type": "display_data"
    }
   ],
   "source": [
    "sns.histplot(x)"
   ]
  },
  {
   "cell_type": "code",
   "execution_count": 111,
   "id": "6a00e162",
   "metadata": {},
   "outputs": [
    {
     "data": {
      "text/plain": [
       "<AxesSubplot:xlabel='7', ylabel='Count'>"
      ]
     },
     "execution_count": 111,
     "metadata": {},
     "output_type": "execute_result"
    },
    {
     "data": {
      "image/png": "[encoded data removed]",
      "text/plain": [
       "<Figure size 640x480 with 1 Axes>"
      ]
     },
     "metadata": {},
     "output_type": "display_data"
    }
   ],
   "source": [
    "sns.histplot(nan[\"7\"])"
   ]
  },
  {
   "cell_type": "code",
   "execution_count": 130,
   "id": "baa43d60",
   "metadata": {},
   "outputs": [],
   "source": [
    "nan1 = nan[nan[\"2017_CO2\"]> \"10\"]"
   ]
  },
  {
   "cell_type": "code",
   "execution_count": 131,
   "id": "0e9299d6",
   "metadata": {},
   "outputs": [
    {
     "data": {
      "text/html": [
       "<div>\n",
       "<style scoped>\n",
       "    .dataframe tbody tr th:only-of-type {\n",
       "        vertical-align: middle;\n",
       "    }\n",
       "\n",
       "    .dataframe tbody tr th {\n",
       "        vertical-align: top;\n",
       "    }\n",
       "\n",
       "    .dataframe thead th {\n",
       "        text-align: right;\n",
       "    }\n",
       "</style>\n",
       "<table border=\"1\" class=\"dataframe\">\n",
       "  <thead>\n",
       "    <tr style=\"text-align: right;\">\n",
       "      <th></th>\n",
       "      <th>mt CO2</th>\n",
       "      <th>1</th>\n",
       "      <th>2</th>\n",
       "      <th>3</th>\n",
       "      <th>%</th>\n",
       "      <th>5</th>\n",
       "      <th>2017_CO2</th>\n",
       "      <th>7</th>\n",
       "      <th>2018</th>\n",
       "      <th>9</th>\n",
       "    </tr>\n",
       "  </thead>\n",
       "  <tbody>\n",
       "    <tr>\n",
       "      <th>0</th>\n",
       "      <td>NaN</td>\n",
       "      <td>1990.000</td>\n",
       "      <td>2005.000</td>\n",
       "      <td>2017.000</td>\n",
       "      <td>2017(% of world)</td>\n",
       "      <td>2017 vs 1990: change (%)</td>\n",
       "      <td>Per land area(t CO2/km2/yr)</td>\n",
       "      <td>Per capita(t CO2/cap/yr)</td>\n",
       "      <td>Total including LUCF</td>\n",
       "      <td>Total excluding LUCF</td>\n",
       "    </tr>\n",
       "    <tr>\n",
       "      <th>1</th>\n",
       "      <td>World</td>\n",
       "      <td>22674.116</td>\n",
       "      <td>30049.809</td>\n",
       "      <td>37077.404</td>\n",
       "      <td>100.00%</td>\n",
       "      <td>63.50%</td>\n",
       "      <td>73</td>\n",
       "      <td>4.9</td>\n",
       "      <td>36431.11</td>\n",
       "      <td>35247.21</td>\n",
       "    </tr>\n",
       "    <tr>\n",
       "      <th>4</th>\n",
       "      <td>Afghanistan</td>\n",
       "      <td>2.546</td>\n",
       "      <td>1.063</td>\n",
       "      <td>11.422</td>\n",
       "      <td>0.03%</td>\n",
       "      <td>348.60%</td>\n",
       "      <td>18</td>\n",
       "      <td>0.3</td>\n",
       "      <td>7.59</td>\n",
       "      <td>7.44</td>\n",
       "    </tr>\n",
       "    <tr>\n",
       "      <th>5</th>\n",
       "      <td>Albania</td>\n",
       "      <td>6.583</td>\n",
       "      <td>4.196</td>\n",
       "      <td>5.026</td>\n",
       "      <td>0.01%</td>\n",
       "      <td>-23.70%</td>\n",
       "      <td>175</td>\n",
       "      <td>1.7</td>\n",
       "      <td>5.32</td>\n",
       "      <td>5.56</td>\n",
       "    </tr>\n",
       "    <tr>\n",
       "      <th>6</th>\n",
       "      <td>Algeria</td>\n",
       "      <td>65.677</td>\n",
       "      <td>98.197</td>\n",
       "      <td>159.929</td>\n",
       "      <td>0.43%</td>\n",
       "      <td>143.50%</td>\n",
       "      <td>67</td>\n",
       "      <td>3.9</td>\n",
       "      <td>151.87</td>\n",
       "      <td>151.67</td>\n",
       "    </tr>\n",
       "    <tr>\n",
       "      <th>...</th>\n",
       "      <td>...</td>\n",
       "      <td>...</td>\n",
       "      <td>...</td>\n",
       "      <td>...</td>\n",
       "      <td>...</td>\n",
       "      <td>...</td>\n",
       "      <td>...</td>\n",
       "      <td>...</td>\n",
       "      <td>...</td>\n",
       "      <td>...</td>\n",
       "    </tr>\n",
       "    <tr>\n",
       "      <th>207</th>\n",
       "      <td>Venezuela</td>\n",
       "      <td>109.268</td>\n",
       "      <td>152.464</td>\n",
       "      <td>145.877</td>\n",
       "      <td>0.39%</td>\n",
       "      <td>33.50%</td>\n",
       "      <td>159</td>\n",
       "      <td>4.6</td>\n",
       "      <td>181.29</td>\n",
       "      <td>138.16</td>\n",
       "    </tr>\n",
       "    <tr>\n",
       "      <th>208</th>\n",
       "      <td>Vietnam</td>\n",
       "      <td>20.182</td>\n",
       "      <td>99.231</td>\n",
       "      <td>218.729</td>\n",
       "      <td>0.59%</td>\n",
       "      <td>983.80%</td>\n",
       "      <td>660</td>\n",
       "      <td>2.3</td>\n",
       "      <td>245.36</td>\n",
       "      <td>257.86</td>\n",
       "    </tr>\n",
       "    <tr>\n",
       "      <th>210</th>\n",
       "      <td>Yemen</td>\n",
       "      <td>6.887</td>\n",
       "      <td>21.768</td>\n",
       "      <td>12.503</td>\n",
       "      <td>0.03%</td>\n",
       "      <td>81.50%</td>\n",
       "      <td>24</td>\n",
       "      <td>0.4</td>\n",
       "      <td>9.31</td>\n",
       "      <td>9.31</td>\n",
       "    </tr>\n",
       "    <tr>\n",
       "      <th>211</th>\n",
       "      <td>Zambia</td>\n",
       "      <td>2.955</td>\n",
       "      <td>2.457</td>\n",
       "      <td>4.967</td>\n",
       "      <td>0.01%</td>\n",
       "      <td>68.10%</td>\n",
       "      <td>7</td>\n",
       "      <td>0.3</td>\n",
       "      <td>40.47</td>\n",
       "      <td>7.74</td>\n",
       "    </tr>\n",
       "    <tr>\n",
       "      <th>212</th>\n",
       "      <td>Zimbabwe</td>\n",
       "      <td>17.178</td>\n",
       "      <td>11.388</td>\n",
       "      <td>12.087</td>\n",
       "      <td>0.03%</td>\n",
       "      <td>-29.60%</td>\n",
       "      <td>31</td>\n",
       "      <td>0.7</td>\n",
       "      <td>99.43</td>\n",
       "      <td>12.27</td>\n",
       "    </tr>\n",
       "  </tbody>\n",
       "</table>\n",
       "<p>200 rows × 10 columns</p>\n",
       "</div>"
      ],
      "text/plain": [
       "          mt CO2          1          2          3                 %  \\\n",
       "0            NaN   1990.000   2005.000   2017.000  2017(% of world)   \n",
       "1          World  22674.116  30049.809  37077.404           100.00%   \n",
       "4    Afghanistan      2.546      1.063     11.422             0.03%   \n",
       "5        Albania      6.583      4.196      5.026             0.01%   \n",
       "6        Algeria     65.677     98.197    159.929             0.43%   \n",
       "..           ...        ...        ...        ...               ...   \n",
       "207    Venezuela    109.268    152.464    145.877             0.39%   \n",
       "208      Vietnam     20.182     99.231    218.729             0.59%   \n",
       "210        Yemen      6.887     21.768     12.503             0.03%   \n",
       "211       Zambia      2.955      2.457      4.967             0.01%   \n",
       "212     Zimbabwe     17.178     11.388     12.087             0.03%   \n",
       "\n",
       "                            5                     2017_CO2  \\\n",
       "0    2017 vs 1990: change (%)  Per land area(t CO2/km2/yr)   \n",
       "1                      63.50%                           73   \n",
       "4                     348.60%                           18   \n",
       "5                     -23.70%                          175   \n",
       "6                     143.50%                           67   \n",
       "..                        ...                          ...   \n",
       "207                    33.50%                          159   \n",
       "208                   983.80%                          660   \n",
       "210                    81.50%                           24   \n",
       "211                    68.10%                            7   \n",
       "212                   -29.60%                           31   \n",
       "\n",
       "                            7                  2018                     9  \n",
       "0    Per capita(t CO2/cap/yr)  Total including LUCF  Total excluding LUCF  \n",
       "1                         4.9              36431.11              35247.21  \n",
       "4                         0.3                  7.59                  7.44  \n",
       "5                         1.7                  5.32                  5.56  \n",
       "6                         3.9                151.87                151.67  \n",
       "..                        ...                   ...                   ...  \n",
       "207                       4.6                181.29                138.16  \n",
       "208                       2.3                245.36                257.86  \n",
       "210                       0.4                  9.31                  9.31  \n",
       "211                       0.3                 40.47                  7.74  \n",
       "212                       0.7                 99.43                 12.27  \n",
       "\n",
       "[200 rows x 10 columns]"
      ]
     },
     "execution_count": 131,
     "metadata": {},
     "output_type": "execute_result"
    }
   ],
   "source": [
    "nan1"
   ]
  },
  {
   "cell_type": "code",
   "execution_count": 133,
   "id": "3265f71f",
   "metadata": {},
   "outputs": [],
   "source": [
    "nan1=nan1.sort_values(by='2017_CO2')"
   ]
  },
  {
   "cell_type": "code",
   "execution_count": 134,
   "id": "ffe16fd0",
   "metadata": {},
   "outputs": [
    {
     "data": {
      "text/html": [
       "<div>\n",
       "<style scoped>\n",
       "    .dataframe tbody tr th:only-of-type {\n",
       "        vertical-align: middle;\n",
       "    }\n",
       "\n",
       "    .dataframe tbody tr th {\n",
       "        vertical-align: top;\n",
       "    }\n",
       "\n",
       "    .dataframe thead th {\n",
       "        text-align: right;\n",
       "    }\n",
       "</style>\n",
       "<table border=\"1\" class=\"dataframe\">\n",
       "  <thead>\n",
       "    <tr style=\"text-align: right;\">\n",
       "      <th></th>\n",
       "      <th>mt CO2</th>\n",
       "      <th>1</th>\n",
       "      <th>2</th>\n",
       "      <th>3</th>\n",
       "      <th>%</th>\n",
       "      <th>5</th>\n",
       "      <th>2017_CO2</th>\n",
       "      <th>7</th>\n",
       "      <th>2018</th>\n",
       "      <th>9</th>\n",
       "    </tr>\n",
       "  </thead>\n",
       "  <tbody>\n",
       "    <tr>\n",
       "      <th>153</th>\n",
       "      <td>Poland</td>\n",
       "      <td>371.139</td>\n",
       "      <td>316.256</td>\n",
       "      <td>319.028</td>\n",
       "      <td>0.86%</td>\n",
       "      <td>-14.00%</td>\n",
       "      <td>1020</td>\n",
       "      <td>8.4</td>\n",
       "      <td>279.83</td>\n",
       "      <td>312.74</td>\n",
       "    </tr>\n",
       "    <tr>\n",
       "      <th>159</th>\n",
       "      <td>Russia</td>\n",
       "      <td>2378.921</td>\n",
       "      <td>1733.950</td>\n",
       "      <td>1764.866</td>\n",
       "      <td>4.76%</td>\n",
       "      <td>-25.80%</td>\n",
       "      <td>103</td>\n",
       "      <td>12.3</td>\n",
       "      <td>1049.05</td>\n",
       "      <td>1607.55</td>\n",
       "    </tr>\n",
       "    <tr>\n",
       "      <th>141</th>\n",
       "      <td>Nigeria</td>\n",
       "      <td>68.581</td>\n",
       "      <td>100.196</td>\n",
       "      <td>94.847</td>\n",
       "      <td>0.26%</td>\n",
       "      <td>38.30%</td>\n",
       "      <td>103</td>\n",
       "      <td>0.5</td>\n",
       "      <td>176.66</td>\n",
       "      <td>130.67</td>\n",
       "    </tr>\n",
       "    <tr>\n",
       "      <th>80</th>\n",
       "      <td>Gibraltar</td>\n",
       "      <td>0.144</td>\n",
       "      <td>0.406</td>\n",
       "      <td>0.627</td>\n",
       "      <td>0.00%</td>\n",
       "      <td>335.40%</td>\n",
       "      <td>104500</td>\n",
       "      <td>18.1</td>\n",
       "      <td>NaN</td>\n",
       "      <td>NaN</td>\n",
       "    </tr>\n",
       "    <tr>\n",
       "      <th>86</th>\n",
       "      <td>Guinea</td>\n",
       "      <td>1.074</td>\n",
       "      <td>1.119</td>\n",
       "      <td>2.731</td>\n",
       "      <td>0.01%</td>\n",
       "      <td>154.30%</td>\n",
       "      <td>11</td>\n",
       "      <td>0.2</td>\n",
       "      <td>15.35</td>\n",
       "      <td>3.12</td>\n",
       "    </tr>\n",
       "  </tbody>\n",
       "</table>\n",
       "</div>"
      ],
      "text/plain": [
       "        mt CO2         1         2         3      %        5 2017_CO2     7  \\\n",
       "153     Poland   371.139   316.256   319.028  0.86%  -14.00%     1020   8.4   \n",
       "159     Russia  2378.921  1733.950  1764.866  4.76%  -25.80%      103  12.3   \n",
       "141    Nigeria    68.581   100.196    94.847  0.26%   38.30%      103   0.5   \n",
       "80   Gibraltar     0.144     0.406     0.627  0.00%  335.40%   104500  18.1   \n",
       "86      Guinea     1.074     1.119     2.731  0.01%  154.30%       11   0.2   \n",
       "\n",
       "        2018        9  \n",
       "153   279.83   312.74  \n",
       "159  1049.05  1607.55  \n",
       "141   176.66   130.67  \n",
       "80       NaN      NaN  \n",
       "86     15.35     3.12  "
      ]
     },
     "execution_count": 134,
     "metadata": {},
     "output_type": "execute_result"
    }
   ],
   "source": [
    "nan1.head()"
   ]
  },
  {
   "cell_type": "code",
   "execution_count": 187,
   "id": "9186140a",
   "metadata": {},
   "outputs": [],
   "source": [
    "x=s[\"un1\"]"
   ]
  },
  {
   "cell_type": "code",
   "execution_count": 188,
   "id": "0f8c56f8",
   "metadata": {},
   "outputs": [],
   "source": [
    "y=s[\"un2\"]"
   ]
  },
  {
   "cell_type": "code",
   "execution_count": 189,
   "id": "dc253046",
   "metadata": {},
   "outputs": [
    {
     "data": {
      "text/plain": [
       "<BarContainer object of 213 artists>"
      ]
     },
     "execution_count": 189,
     "metadata": {},
     "output_type": "execute_result"
    },
    {
     "data": {
      "image/png": "[encoded data removed]",
      "text/plain": [
       "<Figure size 640x480 with 1 Axes>"
      ]
     },
     "metadata": {},
     "output_type": "display_data"
    }
   ],
   "source": [
    "plt.bar(x,y)"
   ]
  },
  {
   "cell_type": "code",
   "execution_count": 193,
   "id": "3d59133e",
   "metadata": {},
   "outputs": [],
   "source": [
    "from sklearn.model_selection import train_test_split\n",
    "from sklearn.tree import DecisionTreeRegressor\n",
    "x_train,x_test,y_train,y_test=train_test_split(x,y,test_size=0.3)"
   ]
  },
  {
   "cell_type": "code",
   "execution_count": 194,
   "id": "50c1356f",
   "metadata": {},
   "outputs": [],
   "source": [
    "dtc=DecisionTreeRegressor()"
   ]
  },
  {
   "cell_type": "code",
   "execution_count": 195,
   "id": "e9b052c0",
   "metadata": {},
   "outputs": [
    {
     "data": {
      "text/plain": [
       "DecisionTreeRegressor()"
      ]
     },
     "execution_count": 195,
     "metadata": {},
     "output_type": "execute_result"
    }
   ],
   "source": [
    "dtc.fit(np.array(x_train).reshape(-1,1),np.array(y_train).reshape(-1,1))"
   ]
  },
  {
   "cell_type": "code",
   "execution_count": 196,
   "id": "a00f8360",
   "metadata": {},
   "outputs": [],
   "source": [
    "y_pred=dtc.predict(np.array(x_test).reshape(-1,1))"
   ]
  },
  {
   "cell_type": "code",
   "execution_count": 197,
   "id": "16962cb3",
   "metadata": {},
   "outputs": [
    {
     "data": {
      "text/plain": [
       "array([2.769000e+00, 4.249995e+03, 4.359000e+00, 2.220000e+00,\n",
       "       2.220000e+00])"
      ]
     },
     "execution_count": 197,
     "metadata": {},
     "output_type": "execute_result"
    }
   ],
   "source": [
    "y_pred[0:5]"
   ]
  },
  {
   "cell_type": "code",
   "execution_count": 198,
   "id": "eb91fd5f",
   "metadata": {},
   "outputs": [
    {
     "data": {
      "text/plain": [
       "67        5.327\n",
       "203    5971.571\n",
       "183       1.686\n",
       "172       0.493\n",
       "19        2.162\n",
       "Name: un2, dtype: float64"
      ]
     },
     "execution_count": 198,
     "metadata": {},
     "output_type": "execute_result"
    }
   ],
   "source": [
    "y_test.head()"
   ]
  },
  {
   "cell_type": "code",
   "execution_count": 206,
   "id": "6233b580",
   "metadata": {},
   "outputs": [],
   "source": [
    "from sklearn.metrics import confusion_matrix\n",
    "cutoff = 0.7\n",
    "y_pred1=np.zeros_like(y_pred)\n",
    "y_pred1[y_test >cutoff] =1\n",
    "y_test1=np.zeros_like(y_pred)\n",
    "y_test1[y_pred >cutoff] =1\n"
   ]
  },
  {
   "cell_type": "code",
   "execution_count": 207,
   "id": "fd054f52",
   "metadata": {},
   "outputs": [
    {
     "data": {
      "text/plain": [
       "array([[ 9,  2],\n",
       "       [ 2, 51]], dtype=int64)"
      ]
     },
     "execution_count": 207,
     "metadata": {},
     "output_type": "execute_result"
    }
   ],
   "source": [
    "confusion_matrix(y_test1,y_pred1)"
   ]
  },
  {
   "cell_type": "code",
   "execution_count": 209,
   "id": "01c44ee3",
   "metadata": {},
   "outputs": [
    {
     "data": {
      "text/plain": [
       "0.9375"
      ]
     },
     "execution_count": 209,
     "metadata": {},
     "output_type": "execute_result"
    }
   ],
   "source": [
    "(9+51)/(9+2+2+51)"
   ]
  },
  {
   "cell_type": "code",
   "execution_count": 211,
   "id": "02fdf182",
   "metadata": {},
   "outputs": [
    {
     "data": {
      "text/plain": [
       "<AxesSubplot:xlabel='un1', ylabel='Density'>"
      ]
     },
     "execution_count": 211,
     "metadata": {},
     "output_type": "execute_result"
    },
    {
     "data": {
      "image/png": "[encoded data removed]",
      "text/plain": [
       "<Figure size 640x480 with 1 Axes>"
      ]
     },
     "metadata": {},
     "output_type": "display_data"
    }
   ],
   "source": [
    "sns.distplot(x)"
   ]
  },
  {
   "cell_type": "code",
   "execution_count": null,
   "id": "3085aed8",
   "metadata": {},
   "outputs": [],
   "source": []
  }
 ],
 "metadata": {
  "kernelspec": {
   "display_name": "Python 3 (ipykernel)",
   "language": "python",
   "name": "python3"
  },
  "language_info": {
   "codemirror_mode": {
    "name": "ipython",
    "version": 3
   },
   "file_extension": ".py",
   "mimetype": "text/x-python",
   "name": "python",
   "nbconvert_exporter": "python",
   "pygments_lexer": "ipython3",
   "version": "3.9.16"
  }
 },
 "nbformat": 4,
 "nbformat_minor": 5
}
